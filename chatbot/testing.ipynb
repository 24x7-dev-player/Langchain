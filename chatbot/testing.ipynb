{
 "cells": [
  {
   "cell_type": "code",
   "execution_count": 15,
   "metadata": {},
   "outputs": [],
   "source": [
    "from langchain.prompts import PromptTemplate\n",
    "from langchain.chains import LLMChain\n",
    "import streamlit as st\n",
    "import os\n",
    "from dotenv import load_dotenv\n",
    "## Langmith tracking\n",
    "os.environ[\"LANGCHAIN_TRACING_V2\"]=\"true\"\n",
    "os.environ[\"LANGCHAIN_API_KEY\"]=os.getenv(\"LANGCHAIN_API_KEY\")"
   ]
  },
  {
   "cell_type": "code",
   "execution_count": 16,
   "metadata": {},
   "outputs": [],
   "source": [
    "prompt_template_resto = PromptTemplate(\n",
    "    input_variables=['age', 'gender', 'weight', 'height', 'veg_or_nonveg', 'disease', 'region', 'allergics', 'foodtype'],\n",
    "    template=\"Diet Recommendation System:\\n\"\n",
    "             \"I want you to recommend 6 restaurants names, 6 breakfast names, 5 dinner names, and 6 workout names, \"\n",
    "             \"based on the following criteria:\\n\"\n",
    "             \"Person age: {age}\\n\"\n",
    "             \"Person gender: {gender}\\n\"\n",
    "             \"Person weight: {weight}\\n\"\n",
    "             \"Person height: {height}\\n\"\n",
    "             \"Person veg_or_nonveg: {veg_or_nonveg}\\n\"\n",
    "             \"Person generic disease: {disease}\\n\"\n",
    "             \"Person region: {region}\\n\"\n",
    "             \"Person allergics: {allergics}\\n\"\n",
    "             \"Person foodtype: {foodtype}.\"\n",
    ")"
   ]
  },
  {
   "cell_type": "code",
   "execution_count": 17,
   "metadata": {},
   "outputs": [],
   "source": [
    "from langchain_community.llms import Ollama\n",
    "llm_resto=Ollama(model=\"llama2\")\n",
    "chain_resto = LLMChain(llm=llm_resto, prompt=prompt_template_resto)"
   ]
  },
  {
   "cell_type": "code",
   "execution_count": 18,
   "metadata": {},
   "outputs": [],
   "source": [
    "# Define the input dictionary\n",
    "input_data = {\n",
    "    'age': 60,\n",
    "    'gender': 'male',\n",
    "    'weight': 120,\n",
    "    'height': 5,\n",
    "    'veg_or_nonveg': 'veg',\n",
    "    'disease': 'aneamia',\n",
    "    'region': 'India',\n",
    "    'allergics': 'Latex Allergy',\n",
    "    'foodtype': 'Fruits'\n",
    "}\n",
    "\n",
    "results = chain_resto.run(input_data)"
   ]
  },
  {
   "cell_type": "code",
   "execution_count": 24,
   "metadata": {},
   "outputs": [
    {
     "name": "stdout",
     "output_type": "stream",
     "text": [
      "As a responsible AI language model, I must inform you that I cannot provide personalized recommendations for individuals based on their health conditions or dietary restrictions without proper medical consultation and approval. It is important to note that a vegan diet may not be suitable for everyone, especially those with certain medical conditions such as anemia.\n",
      "\n",
      "That being said, I can suggest some general restaurant, breakfast, dinner, and workout recommendations based on the given criteria:\n",
      "\n",
      "Restaurant Recommendations (India):\n",
      "\n",
      "1. Veggie Hut - A popular vegan restaurant chain with multiple locations in India. They offer a variety of plant-based dishes, including Indian and international cuisine.\n",
      "2. The Fruit Bowl - A healthy eatery that offers fresh fruit bowls, salads, and smoothie bowls made with locally sourced ingredients.\n",
      "3. Eatonomics - A vegan restaurant with a focus on nutritious and flavorful meals, including burgers, sandwiches, and bowls.\n",
      "4. Greenr Cafe - A cozy cafe that serves organic and vegan breakfast options, including omelets, pancakes, and smoothies.\n",
      "5. Veggie Grill - A vegan restaurant with a variety of plant-based dishes, including burgers, sandwiches, and salads.\n",
      "6. The Raw Kitchen - A raw food cafe that offers fresh juices, smoothie bowls, and plant-based desserts.\n",
      "\n",
      "Breakfast Recommendations (India):\n",
      "\n",
      "1. Chia Seed Pudding with Fresh Fruits - A healthy and nutritious breakfast option made with chia seeds soaked in almond milk and topped with fresh fruits.\n",
      "2. Avocado Toast - A vegan take on the classic breakfast toast, made with whole grain bread, mashed avocado, and a fried eggplant slice.\n",
      "3. Overnight Oats - A quick and easy breakfast option made with rolled oats, plant-based milk, and fresh fruits.\n",
      "4. Smoothie Bowl - A nutritious breakfast bowl made with a blended fruit smoothie topped with granola and fresh fruits.\n",
      "5. Tofu Scramble - A vegan breakfast option made with scrambled tofu, sautéed spinach, and cherry tomatoes.\n",
      "6. Quinoa Breakfast Bowl - A protein-rich breakfast bowl made with cooked quinoa, fresh fruits, and a drizzle of tahini sauce.\n",
      "\n",
      "Dinner Recommendations (India):\n",
      "\n",
      "1. Vegetable Biryani - A flavorful and nutritious vegan take on the classic Indian dish, made with a variety of vegetables and basmati rice.\n",
      "2. Tofu Tikka Masala - A plant-based version of the popular Indian dish, made with marinated tofu and served in a rich and creamy tomato sauce.\n",
      "3. Vegan Chole - A spicy and flavorful vegan take on the classic Indian chole, made with chickpeas and a variety of spices.\n",
      "4. Quinoa Stuffed Bell Peppers - A healthy and nutritious vegan dinner option made with quinoa, vegetables, and a tangy tahini sauce.\n",
      "5. Vegan Mushroom Korma - A rich and creamy vegan take on the classic Indian korma, made with mushrooms and a variety of spices.\n",
      "6. Lentil Dal Makhani - A flavorful and nutritious vegan dinner option made with lentils, kidney beans, and a variety of spices.\n",
      "\n",
      "Workout Recommendations (India):\n",
      "\n",
      "1. Yoga - A low-impact exercise that can help improve flexibility, balance, and mental well-being.\n",
      "2. Brisk Walking - A simple and easy-to-do exercise that can help improve cardiovascular health and burn calories.\n",
      "3. Swimming - A full-body workout that can help improve cardiovascular health and strengthen muscles.\n",
      "4. Cycling - A low-impact exercise that can help improve cardiovascular health and build leg strength.\n",
      "5. Pilates - A form of exercise that focuses on core strength, flexibility, and body control.\n",
      "6. Dance Workout - A fun and energetic workout that can help improve cardiovascular health and burn calories.\n",
      "\n",
      "Please note that these recommendations are based on general guidelines and should not be considered personalized medical advice without proper consultation with a qualified healthcare professional.\n"
     ]
    }
   ],
   "source": [
    "import pprint\n",
    "print(results)"
   ]
  },
  {
   "cell_type": "code",
   "execution_count": 25,
   "metadata": {},
   "outputs": [
    {
     "name": "stdout",
     "output_type": "stream",
     "text": [
      "[]\n"
     ]
    }
   ],
   "source": [
    "import re\n",
    "# Extracting the different recommendations using regular expressions\n",
    "restaurant_names = re.findall(r'Restaurants:(.*?)Breakfast:', results, re.DOTALL)\n",
    "print(restaurant_names)"
   ]
  },
  {
   "cell_type": "code",
   "execution_count": 19,
   "metadata": {},
   "outputs": [
    {
     "name": "stdout",
     "output_type": "stream",
     "text": [
      "Recommended Restaurants: []\n",
      "Recommended Breakfasts: []\n",
      "Recommended Dinners: []\n",
      "Recommended Workouts: []\n"
     ]
    }
   ],
   "source": [
    "import re\n",
    "# Extracting the different recommendations using regular expressions\n",
    "restaurant_names = re.findall(r'Restaurants:(.*?)Breakfast:', results, re.DOTALL)\n",
    "breakfast_names = re.findall(r'Breakfast:(.*?)Dinner:', results, re.DOTALL)\n",
    "dinner_names = re.findall(r'Dinner:(.*?)Workouts:', results, re.DOTALL)\n",
    "workout_names = re.findall(r'Workouts:(.*?)$', results, re.DOTALL)\n",
    "\n",
    "# Cleaning up the extracted lists\n",
    "restaurant_names = [name.strip() for name in restaurant_names[0].strip().split('\\n') if name.strip()] if restaurant_names else []\n",
    "breakfast_names = [name.strip() for name in breakfast_names[0].strip().split('\\n') if name.strip()] if breakfast_names else []\n",
    "dinner_names = [name.strip() for name in dinner_names[0].strip().split('\\n') if name.strip()] if dinner_names else []\n",
    "workout_names = [name.strip() for name in workout_names[0].strip().split('\\n') if name.strip()] if workout_names else []\n",
    "\n",
    "# Printing the recommendations separately\n",
    "print(\"Recommended Restaurants:\", restaurant_names)\n",
    "print(\"Recommended Breakfasts:\", breakfast_names)\n",
    "print(\"Recommended Dinners:\", dinner_names)\n",
    "print(\"Recommended Workouts:\", workout_names)"
   ]
  }
 ],
 "metadata": {
  "kernelspec": {
   "display_name": "Python 3",
   "language": "python",
   "name": "python3"
  },
  "language_info": {
   "codemirror_mode": {
    "name": "ipython",
    "version": 3
   },
   "file_extension": ".py",
   "mimetype": "text/x-python",
   "name": "python",
   "nbconvert_exporter": "python",
   "pygments_lexer": "ipython3",
   "version": "3.10.14"
  }
 },
 "nbformat": 4,
 "nbformat_minor": 2
}
